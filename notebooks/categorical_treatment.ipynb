{
 "cells": [
  {
   "cell_type": "code",
   "execution_count": 2,
   "metadata": {},
   "outputs": [],
   "source": [
    "import pandas as pd"
   ]
  },
  {
   "cell_type": "code",
   "execution_count": 2,
   "metadata": {},
   "outputs": [],
   "source": [
    "df = pd.read_csv(\"../input/train.csv\")"
   ]
  },
  {
   "cell_type": "code",
   "execution_count": 4,
   "metadata": {
    "collapsed": true
   },
   "outputs": [
    {
     "name": "stdout",
     "output_type": "stream",
     "text": [
      "[     0      1      2 ... 299997 299998 299999]\n",
      "[0 1]\n",
      "[0 1]\n",
      "[0 1]\n",
      "['T' 'F']\n",
      "['Y' 'N']\n",
      "['Green' 'Blue' 'Red']\n",
      "['Triangle' 'Trapezoid' 'Polygon' 'Square' 'Star' 'Circle']\n",
      "['Snake' 'Hamster' 'Lion' 'Cat' 'Dog' 'Axolotl']\n",
      "['Finland' 'Russia' 'Canada' 'Costa Rica' 'China' 'India']\n",
      "['Bassoon' 'Piano' 'Theremin' 'Oboe']\n",
      "['50f116bcf' 'b3b4d25d0' '3263bdce5' 'f12246592' '5b0f5acd5' '46cab09da'\n",
      " 'be5592604' '72f8028dc' '4604905e7' 'ad95dc0ee' '2ff007c26' 'a35c346aa'\n",
      " 'dbfb714a4' 'e1558b071' '39647c92a' 'ee55b9d67' '416a8f3ab' '91bde92fa'\n",
      " '3aa9329e2' '568550f04' 'caf83c0b5' '908a1b9c9' 'e844a1f66' 'dbc448931'\n",
      " '2979f0d45' '96c73114c' 'b7bb45938' '7da3e4aec' 'be4578201' 'dc07effb0'\n",
      " '88917a066' 'f2d59cf51' '5d18641ff' '9347491f2' '475e79160' 'e70a6270d'\n",
      " '5b1a9f841' 'e0efe9d20' 'd1b1709e8' '9bb7ea2da' '6fec43dd8' '0dee9b39a'\n",
      " '527ded12a' '321bf770e' 'f7821e391' '0de4acd31' '185ba0a59' '4845cc770'\n",
      " 'bdb9fef4a' '3fef1a765' '2cc9e16b9' 'fd04a970f' '81f9d3312' '30a15b6bd'\n",
      " '8dcf8adfb' '83b38aa6b' '74bd42d5f' '5a94fc1d9' '4e1b529f6' '8d5d9f3db'\n",
      " '472efea17' '740fb99a9' '075ceb58b' '0ef5c1879' '640e1fdd5' 'a3f640358'\n",
      " 'c5725677e' '3b5632a0c' '534be2753' '30a530eab' '7ee26092e' 'c0534106d'\n",
      " '713ad10a7' '9ad6558d1' 'ef38568df' 'de04b8750' 'bd40c81f3' 'ade526ba7'\n",
      " '4e28ceffa' '1305d6e77' '3585ff84b' 'b0c8dba76' '33adb4760' '66669a44f'\n",
      " '9ba4e87a7' 'f50eb07ae' '29e7f8525' 'd9becff68' '159a7306f' 'a5c276589'\n",
      " '0870880f6' '92190168b' '5a466e166' 'e7d9ca356' 'd372c8993' 'b0faff28f'\n",
      " 'e5b29c42b' 'b97f51ac4' '778fdbe56' 'f0c1ceee4' '8266050c6' '6f70dc2df'\n",
      " '84b0081ad' '4464569ee' 'e85ec20b5' '91ea3e4dd' 'e6f45aa26' '488406659'\n",
      " '1e6cb96e8' 'f9d17bb93' '40e0157b1' 'e9f44a509' '493de6347' 'f8faea16f'\n",
      " '0eb46e992' '63f642dd9' '1f1702d2f' '71583d387' 'c2843dc45' '2e7f4d636'\n",
      " '6a2269152' '924346656' '6cd0619e0' '91a20b464' '3685a0904' '0de5598a9'\n",
      " '3aabfa2fc' '115a252ba' 'eb69430d6' '05950689f' '037bd73d8' '81264f81f'\n",
      " '19db35594' '005dd4ce3' '20b10a832' 'ddac78300' 'baab29d3d' 'bd7740b93'\n",
      " '524b3f349' '60a44c8f4' '8573fa81a' '35f65a9bf' '372f6d6ce' 'af088d192'\n",
      " 'e52fbf1c8' '49f4b29cc' 'a9ed6dfea' 'b8d451029' 'a3471b9d9' '06eeaf0aa'\n",
      " 'f6c524860' 'df51b96fc' '479fd7aea' 'dd500b26a' '7e9cb0f9a' 'db5e25328'\n",
      " '2d61990e2' '2cadfed8e' 'e428c040e' '4f7d91943' '88707c9ab' '76be0b8b1'\n",
      " '1bd1068d9' '0b3bec656' 'a51e7974e' '85159d577' '96c83ac09' '6c90f81cd'\n",
      " 'a93b89fc9' '0bdf8165a' 'da60580a8' 'f2a6d797b' '7741f57bd' '2a0e95ba1'\n",
      " 'ead12da87' 'e08092732' '176809a41' 'ca82ad111' '17a3709ae' '3271e5526'\n",
      " '4173a0252' '116f7e3e2' 'defc6dd20' 'e9c6fe0f7' '4f2b65e1e' '0870b0a5d'\n",
      " '552e3fdc9' '05d5943a3' '586b51342' '79923828f' '077fd9465' 'f9e5266f9'\n",
      " '6020a8124' '8cf6c9f74' '09a4ad97d' 'b4c8e6595' 'fa0a88fe9' '59e434d8a'\n",
      " '200009fc3' '59497d53c' '77b08badd' 'eb0004a0b' '34ad60330' '3283ca434'\n",
      " '2cac4af40' 'f802a9849' 'c08ba4f4c' '09ed0a686' '5f7065a42' 'a21564cab'\n",
      " '7a12c88d2' '82d1a6dbb' '9ecc58be1' 'd3079098d' '4ebe94c28' '448a66834'\n",
      " '46bd3558d' '91c80026f' '88f104c00' 'f710fca39' '5331f98fb' '1fd0233cd']\n",
      "['3ac1b8814' 'fbcb50fc1' '0922e3cb8' '50d7ad46a' '1fe17a1fd' '29a854620'\n",
      " '3393a0f78' '55eed5058' '3e44d44eb' '8ed6221ae' '153316f52' '6ea52a806'\n",
      " '1795ef28b' '628f3170f' '08b282a6c' '395941181' 'd44f7245a' '78500847e'\n",
      " '9448b8e3b' '9b1c3c8b7' 'be5a0f5a9' '687eaba3e' '5d7c5c023' '92f461454'\n",
      " 'cd8e3a0a7' 'f24d83141' '16dfb662a' 'cefab1020' '508ff88dc' '6d2cd10c5'\n",
      " 'ddb583aa3' '2eadb68c5' '854f72f28' '42b1cc2fd' 'fa2bf5f22' '8fec7bc42'\n",
      " 'fc4518443' 'bc82e0ba0' '1ad744242' '5cbbea089' '8fb440e53' 'af9278b96'\n",
      " '180a3d6cb' 'e10910468' '2ed5a94b0' '2a22b315e' '55a24a71b' 'c3517eaeb'\n",
      " 'cf82b283d' '0b10fcecc' 'a028c07af' 'd213f48ed' '5a5e620b3' 'c023e914a'\n",
      " '9f53d30ad' '2d9852300' '8cc791aa8' '54474e8d8' '36df19a6e' '0bcb379d8'\n",
      " '7dd3f58e9' '975346729' '96c110558' '8bb163a87' 'df5b440ae' 'd760c59b0'\n",
      " 'e3396fbd5' 'f497b97d7' 'd405aebc1' '6c0354890' '8c9d16cc3' '9e0a099c7'\n",
      " 'fac5eff9e' 'c9eedfbc2' '44e4c0bba' 'c8436c277' 'acf5b10dd' 'a405b7cf0'\n",
      " 'dfb9bd114' 'b69c236cb' 'b8caba53f' '126a4f83d' '2df6f79a2' '565a89e93'\n",
      " '29e27ff9d' '2268327b2' 'fb80a804f' 'a406a5f12' '3bac0bd8e' 'ea7a1aaf6'\n",
      " 'ec5064acb' 'f083d48ad' 'd4fd01769' 'fd9370b9e' 'a9925d0e5' '09e796196'\n",
      " '603232dea' 'd43e63dc9' '5194690a0' 'cf8b12b4e' 'dfb457d2a' 'a26bedd00'\n",
      " '3c5d81a52' '3b9693870' '96abdfa66' 'd88fca3ba' 'eeda68203' '487c32dfa'\n",
      " 'c135cdf77' 'd4d727716' '5755f93b2' '642fcc7be' '4c1bdbe7b' 'efa38c99d'\n",
      " '6d7f8c086' '7112aaf8e' 'e0664a4d3' 'aed51f2c9' '02d689659' '7d8bc814a'\n",
      " '70a942fc1' '2cd425e1f' '63d0e6105' 'e77244b50' '839a6bcdb' '18a901239'\n",
      " 'fc613f31d' '0e2f036b5' 'ae67aec36' 'f14fe8bc5' 'fc88900c4' 'fbbdfc611'\n",
      " '71c68195d' '718fd9453' 'c73e4dfe1' '20dc501c6' '89e65bb86' '21e2c2d57'\n",
      " '017eb57f0' 'dee9cf5e9' '9abb2ac1a' 'ec416c384' '0d50f61fd' '36282e811'\n",
      " '113deddc9' 'df184daf2' 'd166613dc' '8bd314488' '1abac47d0' 'fe0cddc2c'\n",
      " '5c4ee13e3' 'f461f837c' '24a1bea30' '498b2bdcb' 'ebd664cd6' 'e2559b9ab'\n",
      " 'b628a222c' 'dc0536549' '2bdc0a5d0' '5cabda141' 'b321e8ee3' '9218550d8'\n",
      " '29b650229' 'f0c4b23ef' '520806ce2' '4f849ad2d' 'e550bcc1b' '34256b89f'\n",
      " '309e105f1' '2f6efc190' 'df91d98af' '8bbe5580d' '3e41282ec' '77ad092c1'\n",
      " 'afebf0803' 'edb3cf6c8' '4e6cc8696' 'b5f4a755a' 'bb219c9ac' '1869e63b0'\n",
      " '32b4b12b1' 'ea64fbdeb' '40ac3fcd5' 'd9004c5c2' '4daee3baf' '9a16c7c8f'\n",
      " '9ceb19dd6' '063f4307d' '85885b27e' '27828c378' '7909ef46d' '8518cecf3'\n",
      " 'baef8ee7b' 'c103290d4' 'cae4fb7f2' '74e0be86d' '882ce2ad7' 'cebefe5b5'\n",
      " '0302f1ffc' '0b23e3352' 'c79a72c72' 'c75b3104a' 'e16557b2b' 'adfb4cba3'\n",
      " '01455237a' 'f36d9a851' '031d49dfc' 'cd225807c' 'c0f1061ee' 'dd1dbed78'\n",
      " '5786b10d7' 'b1faf70a1' 'f425b1c8c' '612641073' 'd76a148ab' 'c36cea1f7'\n",
      " '90ba6c9a6' 'b511f5bff' '6046454de' 'c06f1b9f7' '6f438920f' '6057ca561'\n",
      " 'b1c48d202' '65aae1692' '50e49ea04' 'db64717a3' 'db35bbdcb' '57aa15561'\n",
      " 'bf82c01fa' '5fa8beadb' 'e63f69ba1' '25d3a1087' '28b8e5350' 'ac8c42404'\n",
      " '9972df3b0' '2473094a9' 'c9a951efa' '32be571ee' '5b2d457f3' '9afd9530d'\n",
      " '86021cf04' 'a520e2537' '7e240024b' 'aed128d19' '66e2654cb' '0aeb8fe13'\n",
      " '43b8c397b' 'f134870d4' 'a6542cec0' '8fbaca82e' '4990652ec' '06835761e'\n",
      " 'b9f08dc06' '49bceb215' '97b6a3518' '28645754b' '338b8a987' '8817e18d1'\n",
      " '37868097a' '6c90b0073' 'fa3f6d36f' 'd6f8634af' '7f3c463a8' 'b300717cf'\n",
      " '35f33a8ca' '80b2270f0' 'bd47c2363' 'ad1b42856' '32db19124' 'e495d6f0f'\n",
      " 'd95501ac1' 'fa498a5ae' '2c7fb8434' '5fd7600de' '322121abf' '1ab5e5ad6'\n",
      " '1611d2b45' '4cb66e369' 'd70a70804' '51f28e64c' '6eaaa8418' 'eaaf53f6a'\n",
      " '418e9e936' '3c1c64eaa' '96d5497a4' 'd173ac7ca' '4cf47e292' 'f8c5dc0e0'\n",
      " 'd942d1e82' '1ea13ded7' '46c89ef8d' '966f4a973' '71534b2a8' 'f7e243b5d'\n",
      " 'ec97e8751' 'bc31d6a6d' 'dce959dcb' 'a19d81efe' '8082e0409' '4b967eac4'\n",
      " '11698a0b3' '70994b28a' 'cd2fa6d62' '15ea6e2bb' 'b48077cc4' '8f897ec3c'\n",
      " 'c5cf1fdc4' '73dd803d0' '2546024d1' 'a20513779' '67bb6c9d7' '3c2b12c56'\n",
      " '944239e54' 'b238965eb' 'b73a8ae77' '20636817e' 'd42f2b9ec' 'a566016d6'\n",
      " '126c2e512' 'fd2344f16' '945aa2bc5' '7d13ad097' 'bedc798e7' '81d59974c'\n",
      " 'a78e38dad' '339c0fa05' '23311af90' 'cd94f29d1' '708e87b0e' '12d88c9c3'\n",
      " 'ffc60be1c' 'd2ce6b1c7' '68dd873e4' '6a53b5f5c' '89a937a9f' '78acf1908'\n",
      " '1c34a67d7' '51d5f02c1' '985c40910' 'b83511180' '54efb1985' '788ba7aea'\n",
      " '51477cd88' '19505136a' '309707034' 'beb20ea99' 'e7a7bf2e1' 'cad70d692'\n",
      " '116d9fcd9' '8fd64cb59' '5fc007fd3' '95572215a' '987d29cca' '162fc2192'\n",
      " '7a8736321' '8a34317cb' 'e4d51bdd5' '2936160c7' '67721d105' '097ff91b3'\n",
      " '79a82b7c0' 'c3c8b7b13' 'd83ae1b30' '74e5a0bce' '4fa3092a4' '860bb37b4'\n",
      " '5d47a598c' 'eaa89fbcc' '231233ca9' '2837cf7b8' 'e7073f6a2' '1b36c0b8c'\n",
      " '5ff2c0a8c' '73d7ca889' '5a49dd8f6' '43744dfd9' 'b2480a857' '485fc6466'\n",
      " '705cb7579' '077e720aa' '8d1b72979' '27e7dbafa' 'cbb210c0a' '9a70de492'\n",
      " '91e1a9d16' 'aee98fa47' '0ed70b7b1' 'd5febb6ef' '1537295c3' 'f64fe5bc0'\n",
      " 'e19cd8107' '800577110' '7185a30dc' '3c7643929' '49d1a98ef' '1573e6c5f'\n",
      " 'b3e59b54a' '0958071b5' 'd086fd85e' '3aa0689eb' 'd2c8f2916' 'fc791ebea'\n",
      " 'b639793f9' '944531331' 'd9e884466' 'c7201df85' '3ae0ef9f1' '0ef3dda96'\n",
      " '21cb526c2' '1e5e03a86' 'd9e131846' '5f57e7d4f' '8ad083b20' '4abed74f5'\n",
      " '8c8aa1d64' 'ac3e34eff' '19231be54' 'd804d7926' '803f6cece' 'd7fb439cc'\n",
      " 'ed8157b96' '1f2e3f148' '1c7f1ab58' '0249d8675' '144279ac1' '3afd0489b'\n",
      " 'ef1f6146b' 'fe77c71bd' 'bbc311f15' '9fbd66490' '4c6d8f959' '83f07ed50'\n",
      " '163b28322' 'fb1301ef6' '214f24d39' '2c4223dbd' 'f17881964' '3e6a88574'\n",
      " '145d17afb' '8584a02f4' '6c1a5aab7' '40994d768' '527a42dc2' 'bea839b58'\n",
      " 'e866d44ea' 'a148d86df' '310b1a988' '3e2b4aac9' '9a20c66da' '09f69436c'\n",
      " '78e45cd66' '3fe2d05f7' '5e881b059' '2119a6f87' 'd9025a066' '4c183f1ef'\n",
      " '292dea6ab' 'f53d92c1a' 'c0e4c4487' '7cb06ca3c' '99fffb9e9' '1f40b9ca8'\n",
      " 'b8cf041db' '9882f1fa0' 'cc8755307' '95a263224' 'eba84389c' '39981f199'\n",
      " '7322ea1c9' '907d87214' '75645dad3' '2ae2bd37c' 'd39b176b6' '329124d64'\n",
      " 'ae49fec17' 'ec93484e7' 'baf172f58' '989a51202' '435fd233e' 'b2c93e83d'\n",
      " '4d5fc69ae' 'b3f15d742' 'cfc8d0828' 'fc88d723d' 'a9b4474f4' 'e78ce8c35'\n",
      " '9d6fa150a' '0000ee65f' '00e9c15b8' 'f81cde28d' '76ef650e6' '437d8df71'\n",
      " 'b436c2568' '9a92bb693' 'fe0b55cd2' '70a040495' '0b17eaec7' 'ce528707a'\n",
      " '77ab97a87' '906c833b2' '782664588' 'e97824431' 'b7c276ed2' '7433a98da'\n",
      " '2d8a0cf5a' '576b27b37' 'b7d62cb4e' '0516fa0d8' '7cd1571c9' '17e0c4fa9'\n",
      " 'f4689e520' '556aa5d7a' '062cd9a70' '9c5ea36f8' '3fe8e9cba' '1ff467489'\n",
      " '82f75f00e' '27179d6e5' '8367b78fc' '28630a5c8' '26bf5ddd9' '4dcab4fc8']\n",
      "['68f6ad3e9' '3b6dd5612' 'a6a36f527' ... '7aaa810eb' '74a1b69b1'\n",
      " '3460d7c4b']\n",
      "['c389000ab' '4cd920251' 'de9c9f684' ... '5361d3b53' 'e4d784581'\n",
      " '44f729e5a']\n",
      "['2f4cb3d51' 'f83c56c21' 'ae6800dd0' ... 'c9751f01d' '3b51e3e0d'\n",
      " 'e05e4c676']\n",
      "[2 1 3]\n",
      "['Grandmaster' 'Expert' 'Novice' 'Contributor' 'Master']\n",
      "['Cold' 'Hot' 'Lava Hot' 'Boiling Hot' 'Freezing' 'Warm']\n",
      "['h' 'a' 'i' 'j' 'g' 'e' 'd' 'b' 'k' 'f' 'l' 'n' 'o' 'c' 'm']\n",
      "['D' 'A' 'R' 'E' 'P' 'K' 'V' 'Q' 'Z' 'L' 'F' 'T' 'U' 'S' 'Y' 'B' 'H' 'J'\n",
      " 'N' 'G' 'W' 'I' 'O' 'C' 'X' 'M']\n",
      "['kr' 'bF' 'Jc' 'kW' 'qP' 'PZ' 'wy' 'Ed' 'qo' 'CZ' 'qX' 'su' 'dP' 'aP'\n",
      " 'MV' 'oC' 'RL' 'fh' 'gJ' 'Hj' 'TR' 'CL' 'Sc' 'eQ' 'kC' 'qK' 'dh' 'gM'\n",
      " 'Jf' 'fO' 'Eg' 'KZ' 'Vx' 'Fo' 'sV' 'eb' 'YC' 'RG' 'Ye' 'qA' 'lL' 'Qh'\n",
      " 'Bd' 'be' 'hT' 'lF' 'nX' 'kK' 'av' 'uS' 'Jt' 'PA' 'Er' 'Qb' 'od' 'ut'\n",
      " 'Dx' 'Xi' 'on' 'Dc' 'sD' 'rZ' 'Uu' 'sn' 'yc' 'Gb' 'Kq' 'dQ' 'hp' 'kL'\n",
      " 'je' 'CU' 'Fd' 'PQ' 'Bn' 'ex' 'hh' 'ac' 'rp' 'dE' 'oG' 'oK' 'cp' 'mm'\n",
      " 'vK' 'ek' 'dO' 'XI' 'CM' 'Vf' 'aO' 'qv' 'jp' 'Zq' 'Qo' 'DN' 'TZ' 'ke'\n",
      " 'cG' 'tP' 'ud' 'tv' 'aM' 'xy' 'lx' 'To' 'uy' 'ZS' 'vy' 'ZR' 'AP' 'GJ'\n",
      " 'Wv' 'ri' 'qw' 'Xh' 'FI' 'nh' 'KR' 'dB' 'BE' 'Bb' 'mc' 'MC' 'tM' 'NV'\n",
      " 'ih' 'IK' 'Ob' 'RP' 'dN' 'us' 'dZ' 'yN' 'Nf' 'QM' 'jV' 'sY' 'wu' 'SB'\n",
      " 'UO' 'Mx' 'JX' 'Ry' 'Uk' 'uJ' 'LE' 'ps' 'kE' 'MO' 'kw' 'yY' 'zU' 'bJ'\n",
      " 'Kf' 'ck' 'mb' 'Os' 'Ps' 'Ml' 'Ai' 'Wc' 'GD' 'll' 'aF' 'iT' 'cA' 'WE'\n",
      " 'Gx' 'Nk' 'OR' 'Rm' 'BA' 'eG' 'cW' 'jS' 'DH' 'hL' 'Mf' 'Yb' 'Aj' 'oH'\n",
      " 'Zc' 'qJ' 'eg' 'xP' 'vq' 'Id' 'pa' 'ux' 'kU' 'Cl']\n",
      "[2 7 5 4 3 1 6]\n",
      "[ 2  8  1  4 10  3  7  9 12 11  5  6]\n",
      "[0 1]\n"
     ]
    }
   ],
   "source": [
    "for c in df.columns:\n",
    "    print(df[c].unique())"
   ]
  },
  {
   "cell_type": "code",
   "execution_count": 6,
   "metadata": {},
   "outputs": [
    {
     "data": {
      "text/plain": [
       "array(['Cold', 'Hot', 'Lava Hot', 'Boiling Hot', 'Freezing', 'Warm'],\n",
       "      dtype=object)"
      ]
     },
     "execution_count": 6,
     "metadata": {},
     "output_type": "execute_result"
    }
   ],
   "source": [
    "df['ord_2'].unique()"
   ]
  },
  {
   "cell_type": "markdown",
   "metadata": {},
   "source": [
    "#### label encoding \n",
    "Just change the category to number"
   ]
  },
  {
   "cell_type": "code",
   "execution_count": 8,
   "metadata": {},
   "outputs": [],
   "source": [
    "mapping = {\n",
    "    \"Freezing\" : 0,\n",
    "    \"Warm\" : 1, \n",
    "    \"Cold\" : 2,\n",
    "    \"Boiling Hot\" : 3,\n",
    "    \"Hot\" : 4,\n",
    "    \"Lava Hot\" : 5\n",
    "}"
   ]
  },
  {
   "cell_type": "code",
   "execution_count": 9,
   "metadata": {},
   "outputs": [],
   "source": [
    "df.loc[:, \"ord_2\"] = df.ord_2.map(mapping)"
   ]
  },
  {
   "cell_type": "code",
   "execution_count": 12,
   "metadata": {},
   "outputs": [],
   "source": [
    "# We can do this using sklearn.preprocessing.LabelEncoder"
   ]
  },
  {
   "cell_type": "code",
   "execution_count": 13,
   "metadata": {},
   "outputs": [],
   "source": [
    "from sklearn.preprocessing import LabelEncoder"
   ]
  },
  {
   "cell_type": "code",
   "execution_count": 14,
   "metadata": {},
   "outputs": [],
   "source": [
    "df = pd.read_csv(\"../input/train.csv\")"
   ]
  },
  {
   "cell_type": "code",
   "execution_count": 16,
   "metadata": {},
   "outputs": [],
   "source": [
    "# fill NaN values in ord_2 column\n",
    "df.loc[:, \"ord_2\"] = df.loc[:, \"ord_2\"].fillna(\"NONE\") "
   ]
  },
  {
   "cell_type": "code",
   "execution_count": 17,
   "metadata": {},
   "outputs": [],
   "source": [
    "# instantiate the object of class labelencoder\n",
    "lbl = LabelEncoder()"
   ]
  },
  {
   "cell_type": "code",
   "execution_count": 19,
   "metadata": {},
   "outputs": [],
   "source": [
    "df.loc[:, \"ord_2\"] = lbl.fit_transform(df.ord_2.values)"
   ]
  },
  {
   "cell_type": "markdown",
   "metadata": {},
   "source": [
    "#### this can be used directly in lot's of tree based models\n",
    "* Decision Trees\n",
    "* Random Forest\n",
    "* Extra Trees\n",
    "* Or any Kind of boosted trees model\n",
    "    * XgBoost\n",
    "    * GBM\n",
    "    * LightGBM"
   ]
  },
  {
   "cell_type": "markdown",
   "metadata": {},
   "source": [
    "This can't be used directly in linear models, support vector machines or neural networks as they expect data to be normalized (or standardized)\n",
    "\n",
    "For that we binarize the data\n",
    "\n",
    "--------------------------------------\n",
    "* Freezing      --> 0 --> 0 0 0\n",
    "* Warm          --> 1 --> 0 0 1\n",
    "* Cold          --> 2 --> 0 1 0\n",
    "* Boiling Hot   --> 3 --> 0 1 1\n",
    "* Hot           --> 4 --> 1 0 0\n",
    "* Lava Hot      --> 5 --> 1 0 1\n",
    "\n",
    "-------------------------------------------\n",
    "\n",
    "For binarized variables It becomes easy stores in sparse format\n",
    "Where it represents the data in format such way it stores where 1 is there else"
   ]
  },
  {
   "cell_type": "markdown",
   "metadata": {},
   "source": [
    "#### Example\n",
    "| Index      | Feature |\n",
    "| ----------- | ----------- |\n",
    "| 0      | Warm       |\n",
    "| 1   | Hot        |\n",
    "|2 | Lava Hot |\n",
    "\n",
    "Can be represented as \n",
    "\n",
    "|Index | Feature_0 | Feature_1 |Feature_2 |\n",
    "|-----|---------|--------|-------|\n",
    "|0| 0 |0| 1|\n",
    "|1| 1| 0| 0|\n",
    "|2| 1| 0| 1|"
   ]
  },
  {
   "cell_type": "code",
   "execution_count": 21,
   "metadata": {},
   "outputs": [],
   "source": [
    "# So our feature are stores in a matrix which has 3 row and 3 column  - 3 * 3\n",
    "# each element of this matrix occupies 9 bytes. So, our total memory \n",
    "# requirement for this array is 8*3*3 = 72 bytes"
   ]
  },
  {
   "cell_type": "code",
   "execution_count": 24,
   "metadata": {},
   "outputs": [],
   "source": [
    "import numpy as np"
   ]
  },
  {
   "cell_type": "code",
   "execution_count": 26,
   "metadata": {},
   "outputs": [],
   "source": [
    "example = np.array([\n",
    "    [0, 0, 1],\n",
    "    [1, 0, 0],\n",
    "    [1, 0, 1]\n",
    "])"
   ]
  },
  {
   "cell_type": "code",
   "execution_count": 27,
   "metadata": {},
   "outputs": [
    {
     "data": {
      "text/plain": [
       "72"
      ]
     },
     "execution_count": 27,
     "metadata": {},
     "output_type": "execute_result"
    }
   ],
   "source": [
    "example.nbytes"
   ]
  },
  {
   "cell_type": "code",
   "execution_count": 29,
   "metadata": {},
   "outputs": [],
   "source": [
    "from scipy import sparse"
   ]
  },
  {
   "cell_type": "code",
   "execution_count": 30,
   "metadata": {},
   "outputs": [],
   "source": [
    "# let's convert this array to sparse CSR matrix\n",
    "sparse_example = sparse.csr_matrix(example)"
   ]
  },
  {
   "cell_type": "code",
   "execution_count": 32,
   "metadata": {},
   "outputs": [
    {
     "data": {
      "text/plain": [
       "<3x3 sparse matrix of type '<class 'numpy.int64'>'\n",
       "\twith 4 stored elements in Compressed Sparse Row format>"
      ]
     },
     "execution_count": 32,
     "metadata": {},
     "output_type": "execute_result"
    }
   ],
   "source": [
    "sparse_example"
   ]
  },
  {
   "cell_type": "code",
   "execution_count": 35,
   "metadata": {},
   "outputs": [
    {
     "data": {
      "text/plain": [
       "32"
      ]
     },
     "execution_count": 35,
     "metadata": {},
     "output_type": "execute_result"
    }
   ],
   "source": [
    "sparse_example.data.nbytes"
   ]
  },
  {
   "cell_type": "code",
   "execution_count": 36,
   "metadata": {},
   "outputs": [
    {
     "name": "stdout",
     "output_type": "stream",
     "text": [
      "64\n"
     ]
    }
   ],
   "source": [
    "# Actually total size of the sparse csr matrix constitues sum of three values\n",
    "print(\n",
    "        sparse_example.data.nbytes + \n",
    "        sparse_example.indptr.nbytes + \n",
    "        sparse_example.indices.nbytes\n",
    ")"
   ]
  },
  {
   "cell_type": "code",
   "execution_count": 37,
   "metadata": {},
   "outputs": [],
   "source": [
    "# This difference doesn't look much but when we have hundreds of \n",
    "# thousands of rows this make sense\n",
    "import numpy as np\n",
    "from scipy import sparse"
   ]
  },
  {
   "cell_type": "code",
   "execution_count": 48,
   "metadata": {},
   "outputs": [
    {
     "name": "stdout",
     "output_type": "stream",
     "text": [
      "Size of dense array: 8000000000\n",
      "size of sparse array: 399991624\n",
      "Full size of sparse array:  600387440\n"
     ]
    }
   ],
   "source": [
    "n_rows = 10000\n",
    "n_cols = 100000\n",
    "\n",
    "example  = np.random.binomial(1, p = 0.05, size = (n_rows, n_cols))\n",
    "\n",
    "print(f\"Size of dense array: {example.nbytes}\")\n",
    "\n",
    "sparse_example = sparse.csc_matrix(example)\n",
    "\n",
    "print(f\"size of sparse array: {sparse_example.data.nbytes}\")\n",
    "\n",
    "full_size = (\n",
    "    sparse_example.data.nbytes +\n",
    "    sparse_example.indptr.nbytes +\n",
    "    sparse_example.indices.nbytes\n",
    ")\n",
    "\n",
    "print(f\"Full size of sparse array:  {full_size}\")"
   ]
  },
  {
   "cell_type": "markdown",
   "metadata": {},
   "source": [
    "So, the dense array will take upto 8 gb of data, The sparse array on \n",
    "the other hand, takes only 399MB of memory"
   ]
  },
  {
   "cell_type": "code",
   "execution_count": 49,
   "metadata": {},
   "outputs": [],
   "source": [
    "# one hot encoding\n",
    "example = np.array([\n",
    "    [0, 0, 0, 0, 1, 0],\n",
    "    [0, 1, 0, 0, 0, 0],\n",
    "    [1, 0, 0, 0, 0, 0]\n",
    "])"
   ]
  },
  {
   "cell_type": "code",
   "execution_count": 52,
   "metadata": {},
   "outputs": [
    {
     "name": "stdout",
     "output_type": "stream",
     "text": [
      "size of the dense array: 144\n"
     ]
    }
   ],
   "source": [
    "print(f\"size of the dense array: {example.nbytes}\")"
   ]
  },
  {
   "cell_type": "code",
   "execution_count": 53,
   "metadata": {},
   "outputs": [
    {
     "name": "stdout",
     "output_type": "stream",
     "text": [
      "size of the sparse array: 24\n"
     ]
    }
   ],
   "source": [
    "sparse_example = sparse.csr_matrix(example)\n",
    "print(f\"size of the sparse array: {sparse_example.data.nbytes}\")"
   ]
  },
  {
   "cell_type": "code",
   "execution_count": 54,
   "metadata": {},
   "outputs": [],
   "source": [
    "full_size = (\n",
    "        sparse_example.data.nbytes + \n",
    "        sparse_example.indptr.nbytes + \n",
    "        sparse_example.indices.nbytes\n",
    ")"
   ]
  },
  {
   "cell_type": "code",
   "execution_count": 56,
   "metadata": {},
   "outputs": [
    {
     "name": "stdout",
     "output_type": "stream",
     "text": [
      "Full size of sparse array : 52\n"
     ]
    }
   ],
   "source": [
    "print(f\"Full size of sparse array : {full_size}\")"
   ]
  },
  {
   "cell_type": "code",
   "execution_count": 57,
   "metadata": {},
   "outputs": [],
   "source": [
    "from sklearn import preprocessing"
   ]
  },
  {
   "cell_type": "code",
   "execution_count": 58,
   "metadata": {},
   "outputs": [],
   "source": [
    "example = np.random.randint(1000, size = 1000000)"
   ]
  },
  {
   "cell_type": "code",
   "execution_count": 59,
   "metadata": {},
   "outputs": [],
   "source": [
    "ohe = preprocessing.OneHotEncoder(sparse = False)"
   ]
  },
  {
   "cell_type": "code",
   "execution_count": 60,
   "metadata": {},
   "outputs": [],
   "source": [
    "ohe_example = ohe.fit_transform(example.reshape(-1, 1))"
   ]
  },
  {
   "cell_type": "code",
   "execution_count": 61,
   "metadata": {},
   "outputs": [
    {
     "name": "stdout",
     "output_type": "stream",
     "text": [
      "size of dense array: 8000000000\n"
     ]
    }
   ],
   "source": [
    "print(f\"size of dense array: {ohe_example.nbytes}\")"
   ]
  },
  {
   "cell_type": "code",
   "execution_count": 62,
   "metadata": {},
   "outputs": [],
   "source": [
    "ohe = preprocessing.OneHotEncoder(sparse=True)"
   ]
  },
  {
   "cell_type": "code",
   "execution_count": 63,
   "metadata": {},
   "outputs": [],
   "source": [
    "ohe_example = ohe.fit_transform(example.reshape(-1, 1))"
   ]
  },
  {
   "cell_type": "code",
   "execution_count": 68,
   "metadata": {},
   "outputs": [
    {
     "name": "stdout",
     "output_type": "stream",
     "text": [
      "size of sparse array: 8000000\n"
     ]
    }
   ],
   "source": [
    "print(f\"size of sparse array: {ohe_example.data.nbytes}\")"
   ]
  },
  {
   "cell_type": "code",
   "execution_count": 69,
   "metadata": {},
   "outputs": [],
   "source": [
    "full_size = (\n",
    "    ohe_example.data.nbytes +\n",
    "    ohe_example.indptr.nbytes + ohe_example.indices.nbytes\n",
    ")"
   ]
  },
  {
   "cell_type": "code",
   "execution_count": 71,
   "metadata": {},
   "outputs": [
    {
     "name": "stdout",
     "output_type": "stream",
     "text": [
      "The Full size of sparse array: 16000004\n"
     ]
    }
   ],
   "source": [
    "print(f\"The Full size of sparse array: {full_size}\")"
   ]
  },
  {
   "cell_type": "markdown",
   "metadata": {},
   "source": [
    "8 GB of data was reduced to 8 MB\n",
    "So, these are most popular method to convert the categorical data\n",
    "* LabelEncoder\n",
    "* BinaryEncoding\n",
    "* OnehotEncoding"
   ]
  },
  {
   "cell_type": "code",
   "execution_count": 74,
   "metadata": {},
   "outputs": [
    {
     "data": {
      "text/plain": [
       "ord_2\n",
       "0    60627\n",
       "1    33768\n",
       "2    99816\n",
       "3    22227\n",
       "4    63908\n",
       "5    19654\n",
       "Name: id, dtype: int64"
      ]
     },
     "execution_count": 74,
     "metadata": {},
     "output_type": "execute_result"
    }
   ],
   "source": [
    "df.groupby(['ord_2'])[\"id\"].count()"
   ]
  },
  {
   "cell_type": "code",
   "execution_count": 3,
   "metadata": {},
   "outputs": [],
   "source": [
    "train_data = pd.read_csv(\"../input/train.csv\")\n",
    "test_data = pd.read_csv(\"../input/test.csv\")"
   ]
  },
  {
   "cell_type": "code",
   "execution_count": 4,
   "metadata": {},
   "outputs": [],
   "source": [
    "test_data.loc[:, \"target\"] = -1"
   ]
  },
  {
   "cell_type": "code",
   "execution_count": 5,
   "metadata": {},
   "outputs": [],
   "source": [
    "data = pd.concat([train_data, test_data]).reset_index(drop = True)"
   ]
  },
  {
   "cell_type": "code",
   "execution_count": 6,
   "metadata": {},
   "outputs": [],
   "source": [
    "features = [c for c in data.columns if c not in [\"id\", \"target\"]]"
   ]
  },
  {
   "cell_type": "code",
   "execution_count": 9,
   "metadata": {},
   "outputs": [],
   "source": [
    "from sklearn import preprocessing"
   ]
  },
  {
   "cell_type": "code",
   "execution_count": 10,
   "metadata": {},
   "outputs": [],
   "source": [
    "for feat in features:\n",
    "    lbl_enc = preprocessing.LabelEncoder()\n",
    "    temp_col = data[feat].fillna(\"NONE\").astype(str).values\n",
    "    \n",
    "    data.loc[:, \"feat\"] = lbl_enc.fit_transform(temp_col)\n",
    "    "
   ]
  },
  {
   "cell_type": "code",
   "execution_count": 11,
   "metadata": {},
   "outputs": [],
   "source": [
    "train = data[data.target != -1].reset_index(drop = True)\n",
    "test = data[data.target == -1].reset_index(drop = True)"
   ]
  },
  {
   "cell_type": "code",
   "execution_count": null,
   "metadata": {},
   "outputs": [],
   "source": []
  }
 ],
 "metadata": {
  "kernelspec": {
   "display_name": "Python 3",
   "language": "python",
   "name": "python3"
  },
  "language_info": {
   "codemirror_mode": {
    "name": "ipython",
    "version": 3
   },
   "file_extension": ".py",
   "mimetype": "text/x-python",
   "name": "python",
   "nbconvert_exporter": "python",
   "pygments_lexer": "ipython3",
   "version": "3.7.6"
  }
 },
 "nbformat": 4,
 "nbformat_minor": 4
}
